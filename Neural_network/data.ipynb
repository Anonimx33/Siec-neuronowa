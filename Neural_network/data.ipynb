{
 "cells": [
  {
   "cell_type": "markdown",
   "id": "1b03329b-39af-4e0b-befe-17ab196eaaa6",
   "metadata": {},
   "source": [
    "#Reading data"
   ]
  },
  {
   "cell_type": "code",
   "execution_count": 4,
   "id": "2b0c8062-a333-40d4-a7bf-0d1fd55804b3",
   "metadata": {},
   "outputs": [],
   "source": [
    "import numpy as np\n",
    "import matplotlib.pyplot as plt\n",
    "# import matplotlib.pyplot as plt\n",
    "from mlxtend.data import loadlocal_mnist\n",
    "# from neural_net import NeuralNet\n",
    "# from collections import Counter\n",
    "\n",
    "PATH_TRAIN_IMAGES = \"data/train-images-idx3-ubyte\"\n",
    "PATH_TRAIN_LABELS = \"data/train-labels-idx1-ubyte\"\n",
    "\n",
    "PATH_TEST_IMAGES = \"data/t10k-images-idx3-ubyte\"\n",
    "PATH_TEST_LABELS = \"data/t10k-labels-idx1-ubyte\"\n",
    "\n",
    "COL_SIZE = 28\n",
    "\n",
    "\n",
    "def load_datasets(set_name=\"train\"):\n",
    "    if set_name == \"train\":\n",
    "        images, labels = loadlocal_mnist(\n",
    "            images_path=PATH_TRAIN_IMAGES,\n",
    "            labels_path=PATH_TRAIN_LABELS)\n",
    "    else:\n",
    "        images, labels = loadlocal_mnist(\n",
    "            images_path=PATH_TEST_IMAGES,\n",
    "            labels_path=PATH_TEST_LABELS)\n",
    "\n",
    "    return images, labels\n",
    "\n",
    "def show_image(array, label=None):\n",
    "    img = np.reshape(array, (COL_SIZE, COL_SIZE))\n",
    "    plt.title(f\"Label: {label}\")\n",
    "    plt.imshow(img, cmap='gray')\n",
    "    plt.show()\n",
    "    \n",
    "def show_image_with_index(index: int, set_name=\"train\"):\n",
    "    images, labels = load_datasets(set_name)\n",
    "    img = images[index]\n",
    "    lbl = labels[index]\n",
    "    print(lbl)\n",
    "    show_image(img, lbl)\n",
    "\n",
    "def normalize_pixel_values(arr: np.ndarray, max_val=255.0):\n",
    "    normalized_arr = arr.astype('float32')\n",
    "    normalized_arr /= max_val\n",
    "    return normalized_arr\n"
   ]
  },
  {
   "cell_type": "code",
   "execution_count": 2,
   "id": "6554f699",
   "metadata": {},
   "outputs": [],
   "source": [
    "def sigmoid(x):\n",
    "    return 1/(1 + np.exp(-x))\n",
    "\n",
    "class Layer:\n",
    "    def __init__(self, number_of_neurons, number_of_inputs, activation_function):\n",
    "        self.number_of_neurons = number_of_neurons\n",
    "        self.number_of_inputs = number_of_inputs\n",
    "        self.activation_function = activation_function\n",
    "        self.weights = np.random.uniform(-1,1,(number_of_neurons, number_of_inputs))\n",
    "        self.bias = np.random.uniform(-0.2,0.2,(number_of_neurons, 1))\n",
    "        self.z = np.zeros(number_of_neurons, 1)\n",
    "        self.y = np.zeros(number_of_neurons, 1)\n",
    "\n",
    "    def activation(self, inputs):\n",
    "        self.z = np.dot(self.weights, inputs) + self.bias\n",
    "        self.y = self.activation_function(self.z)\n",
    "\n",
    "class Network:\n",
    "    def __init__(self, list_of_numbers_of_neurons, learning_rate, activation):\n",
    "        self.number_of_neurons = list_of_numbers_of_neurons\n",
    "        self.learning_rate = learning_rate\n",
    "        self.layers = []\n",
    "        for index in range(1, len(list_of_numbers_of_neurons)):\n",
    "            layer = Layer(list_of_numbers_of_neurons[index], list_of_numbers_of_neurons[index - 1],)\n",
    "            self.layers.append(layer)\n",
    "\n",
    "    def feed_forward(self, inputs):\n",
    "        last_out = inputs.copy()\n",
    "        for index in range(len(self.layers)):\n",
    "            last_out = self.layers[index].activation(last_out)\n",
    "        return last_out"
   ]
  },
  {
   "cell_type": "code",
   "execution_count": 5,
   "id": "4b2920ef-d079-451a-a583-9e6cdc7b72bb",
   "metadata": {},
   "outputs": [],
   "source": [
    "images, labels = load_datasets()"
   ]
  },
  {
   "cell_type": "code",
   "execution_count": 8,
   "id": "ef96d13b-f358-4dde-9dee-a2cc4f20f97b",
   "metadata": {},
   "outputs": [
    {
     "name": "stdout",
     "output_type": "stream",
     "text": [
      "3\n"
     ]
    },
    {
     "data": {
      "image/png": "[encoded data removed]",
      "text/plain": [
       "<Figure size 432x288 with 1 Axes>"
      ]
     },
     "metadata": {
      "needs_background": "light"
     },
     "output_type": "display_data"
    }
   ],
   "source": [
    "show_image_with_index(10)"
   ]
  },
  {
   "cell_type": "code",
   "execution_count": 7,
   "id": "a2c21971-6d26-4f11-b772-d16a9a7db77c",
   "metadata": {},
   "outputs": [
    {
     "data": {
      "image/png": "[encoded data removed]",
      "text/plain": [
       "<Figure size 432x288 with 1 Axes>"
      ]
     },
     "metadata": {
      "needs_background": "light"
     },
     "output_type": "display_data"
    }
   ],
   "source": [
    "show_image(images[2])"
   ]
  },
  {
   "cell_type": "code",
   "execution_count": 9,
   "id": "fcc81fa5-f41a-4ce4-91ce-9800e38f9f80",
   "metadata": {},
   "outputs": [
    {
     "name": "stdout",
     "output_type": "stream",
     "text": [
      "Note: you may need to restart the kernel to use updated packages.\n"
     ]
    }
   ],
   "source": [
    "pip freeze > requirements.txt"
   ]
  },
  {
   "cell_type": "code",
   "execution_count": null,
   "id": "0bb3f262-35ac-48b6-a354-5bbb0c190de1",
   "metadata": {},
   "outputs": [],
   "source": []
  }
 ],
 "metadata": {
  "kernelspec": {
   "display_name": "Python 3",
   "language": "python",
   "name": "python3"
  },
  "language_info": {
   "codemirror_mode": {
    "name": "ipython",
    "version": 3
   },
   "file_extension": ".py",
   "mimetype": "text/x-python",
   "name": "python",
   "nbconvert_exporter": "python",
   "pygments_lexer": "ipython3",
   "version": "3.10.9"
  },
  "vscode": {
   "interpreter": {
    "hash": "abb28fd1d7431144c73c9b6e36d3d8b55428cbac4336a7216572d74924205ca7"
   }
  }
 },
 "nbformat": 4,
 "nbformat_minor": 5
}
