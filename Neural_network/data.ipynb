{
 "cells": [
  {
   "cell_type": "markdown",
   "id": "1b03329b-39af-4e0b-befe-17ab196eaaa6",
   "metadata": {},
   "source": [
    "#Reading data\n",
    "https://github.com/ASaid7/MLP-from-Scratch/blob/master/multilayer%20perceptron.ipynb\n"
   ]
  },
  {
   "cell_type": "code",
   "execution_count": 1,
   "id": "2b0c8062-a333-40d4-a7bf-0d1fd55804b3",
   "metadata": {},
   "outputs": [
    {
     "name": "stdout",
     "output_type": "stream",
     "text": [
      "importing Jupyter notebook from images_data.ipynb\n",
      "importing Jupyter notebook from Layer.ipynb\n"
     ]
    }
   ],
   "source": [
    "import numpy as np\n",
    "import matplotlib.pyplot as plt\n",
    "from mlxtend.data import loadlocal_mnist\n",
    "import import_ipynb\n",
    "import images_data\n",
    "from functools import partial\n",
    "\n",
    "import nbimporter\n",
    "from Layer import Layer\n",
    "\n",
    "PATH_TRAIN_IMAGES = \"data/train-images-idx3-ubyte\"\n",
    "PATH_TRAIN_LABELS = \"data/train-labels-idx1-ubyte\"\n",
    "\n",
    "PATH_TEST_IMAGES = \"data/t10k-images-idx3-ubyte\"\n",
    "PATH_TEST_LABELS = \"data/t10k-labels-idx1-ubyte\"\n",
    "\n",
    "COL_SIZE = 28\n",
    "%matplotlib inline\n"
   ]
  },
  {
   "cell_type": "code",
   "execution_count": 2,
   "id": "4b2920ef-d079-451a-a583-9e6cdc7b72bb",
   "metadata": {},
   "outputs": [],
   "source": [
    "images, labels = images_data.load_datasets()"
   ]
  },
  {
   "cell_type": "code",
   "execution_count": 3,
   "id": "ef96d13b-f358-4dde-9dee-a2cc4f20f97b",
   "metadata": {},
   "outputs": [
    {
     "name": "stdout",
     "output_type": "stream",
     "text": [
      "5\n"
     ]
    },
    {
     "data": {
      "image/png": "[encoded data removed]",
      "text/plain": [
       "<Figure size 432x288 with 1 Axes>"
      ]
     },
     "metadata": {
      "needs_background": "light"
     },
     "output_type": "display_data"
    }
   ],
   "source": [
    "images_data.show_image_with_index(0)"
   ]
  },
  {
   "cell_type": "code",
   "execution_count": 4,
   "id": "c51eac59-1a97-4d6a-a2cd-9b9941616367",
   "metadata": {},
   "outputs": [],
   "source": [
    "def sigmoid(x):\n",
    "    return 1/(1 + np.exp(-x))\n",
    "\n",
    "def deriative_sigmoid(x):\n",
    "    return sigmoid(x) * (1-sigmoid(x))"
   ]
  },
  {
   "cell_type": "code",
   "execution_count": 12,
   "id": "0bb3f262-35ac-48b6-a354-5bbb0c190de1",
   "metadata": {},
   "outputs": [],
   "source": [
    "layer_1 = Layer(1,2,3,4)"
   ]
  },
  {
   "cell_type": "code",
   "execution_count": null,
   "id": "417ec320-d243-4fd1-b6a9-83c54493a530",
   "metadata": {},
   "outputs": [
    {
     "ename": "NameError",
     "evalue": "name 'List' is not defined",
     "output_type": "error",
     "traceback": [
      "\u001b[0;31m---------------------------------------------------------------------------\u001b[0m",
      "\u001b[0;31mNameError\u001b[0m                                 Traceback (most recent call last)",
      "Input \u001b[0;32mIn [7]\u001b[0m, in \u001b[0;36m<cell line: 1>\u001b[0;34m()\u001b[0m\n\u001b[0;32m----> 1\u001b[0m \u001b[38;5;28;01mclass\u001b[39;00m \u001b[38;5;21;01mNetwork\u001b[39;00m:\n\u001b[1;32m      2\u001b[0m     \u001b[38;5;28;01mdef\u001b[39;00m \u001b[38;5;21minit\u001b[39m(\u001b[38;5;28mself\u001b[39m, list_of_numbers_of_neurons, learning_rate, activation, deriative):\n\u001b[1;32m      3\u001b[0m         \u001b[38;5;28mself\u001b[39m\u001b[38;5;241m.\u001b[39mnumber_of_neurons \u001b[38;5;241m=\u001b[39m list_of_numbers_of_neurons\n",
      "Input \u001b[0;32mIn [7]\u001b[0m, in \u001b[0;36mNetwork\u001b[0;34m()\u001b[0m\n\u001b[1;32m     15\u001b[0m         last_out \u001b[38;5;241m=\u001b[39m \u001b[38;5;28mself\u001b[39m\u001b[38;5;241m.\u001b[39mlayers[index]\u001b[38;5;241m.\u001b[39mactivation(last_out)\n\u001b[1;32m     16\u001b[0m     \u001b[38;5;28;01mreturn\u001b[39;00m last_out\n\u001b[0;32m---> 19\u001b[0m \u001b[38;5;28;01mdef\u001b[39;00m \u001b[38;5;21mfeed_back\u001b[39m(\u001b[38;5;28mself\u001b[39m, inputs: np\u001b[38;5;241m.\u001b[39marray, y: np\u001b[38;5;241m.\u001b[39marray) \u001b[38;5;241m-\u001b[39m\u001b[38;5;241m>\u001b[39m \u001b[43mList\u001b[49m[np\u001b[38;5;241m.\u001b[39marray]:\n\u001b[1;32m     20\u001b[0m     \u001b[38;5;28mself\u001b[39m\u001b[38;5;241m.\u001b[39mfeed_forward(inputs)\n\u001b[1;32m     21\u001b[0m     last_layer \u001b[38;5;241m=\u001b[39m \u001b[38;5;28mself\u001b[39m\u001b[38;5;241m.\u001b[39mlayers[\u001b[38;5;241m-\u001b[39m\u001b[38;5;241m1\u001b[39m]\n",
      "\u001b[0;31mNameError\u001b[0m: name 'List' is not defined"
     ]
    }
   ],
   "source": [
    "class Network:\n",
    "    def init(self, list_of_numbers_of_neurons, learning_rate, activation, deriative):\n",
    "        self.number_of_neurons = list_of_numbers_of_neurons\n",
    "        self.learning_rate = learning_rate\n",
    "        self.layers = []\n",
    "        self.erors = None\n",
    "        for index in range(1, len(list_of_numbers_of_neurons)):\n",
    "            layer = Layer(list_of_numbers_of_neurons[index], list_of_numbers_of_neurons[index - 1], activation, deriative)\n",
    "            self.layers.append(layer)\n",
    "            \n",
    "\n",
    "    def feed_forward(self, inputs: np.array) -> np.array:\n",
    "        last_out = inputs.copy()\n",
    "        for index in range(len(self.layers)):\n",
    "            last_out = self.layers[index].activation(last_out)\n",
    "        return last_out\n",
    "    \n",
    "    \n",
    "    def feed_back(self, inputs: np.array, y: np.array) -> List[np.array]:\n",
    "        self.feed_forward(inputs)\n",
    "        last_layer = self.layers[-1]\n",
    "\n",
    "        cost_derivative = helpers.cost_derivative(last_layer.a, y)\n",
    "        sigmoid_derivative = activation_functions.sigmoid_derivative(last_layer.z)\n",
    "\n",
    "        errors = []\n",
    "        delta: np.array = cost_derivative * sigmoid_derivative\n",
    "        errors.insert(0, delta)\n",
    "\n",
    "        for layer_index in range(len(self._layers) - 2, -1, -1):\n",
    "            cost_derivative = np.dot(self._layers[layer_index + 1].weights.T, delta)\n",
    "            sigmoid_derivative = activation_functions.sigmoid_derivative(\n",
    "                self._layers[layer_index].z\n",
    "            )\n",
    "\n",
    "            delta = cost_derivative * sigmoid_derivative\n",
    "            errors.insert(0, delta)\n",
    "\n",
    "        return errors\n",
    "            \n",
    "            \n",
    "            \n",
    "            \n",
    "    def save_weights(self):\n",
    "        pass\n",
    "    \n",
    "    def save_biases(self):\n",
    "        pass\n",
    "    \n",
    "    def loss(self, y_true, y_pred):\n",
    "        return np.mean((y_true - y_pred)**2)\n",
    "    \n",
    "    def dloss(self, y_true, y_pred):\n",
    "        return 2 * (y_pred - y_true) / y_true.size\n",
    "\n"
   ]
  },
  {
   "cell_type": "code",
   "execution_count": null,
   "id": "b3bc66bc-9d29-4ca2-9932-3ed405d24d01",
   "metadata": {},
   "outputs": [],
   "source": [
    "list_of_numbers_of_neurons = [756, 64, 32, 10]\n",
    "\n",
    "\n",
    "    def learn(self, x_train, y_train, epochs, learn_rate=0.1):            \n",
    "        samples = x_train.shape[0]\n",
    "            self.errors = np.zeros(epochs)\n",
    "            for epoch in range(epochs):\n",
    "                loss = 0\n",
    "                for j in range(samples):\n",
    "                    output = x_train[j]\n",
    "                    for layer in self.layers:\n",
    "                        output = layer.feed_forward(output)\n",
    "                    loss += self.loss(y_train[j], output)\n",
    "                    dE_dY = self.dloss(y_train[j], output)\n",
    "                    for layer in reversed(self.layers):\n",
    "                        dE_dY = self.feed_backward(dE_dY, learn_rate)\n",
    "                loss /= samples\n",
    "                self.errors[i] = loss\n",
    "                print(f\"epoch: {i}, loss: {loss}\")\n",
    "                \n",
    "\n",
    "\n"
   ]
  }
 ],
 "metadata": {
  "kernelspec": {
   "display_name": "Neural_Network",
   "language": "python",
   "name": "neural_network"
  },
  "language_info": {
   "codemirror_mode": {
    "name": "ipython",
    "version": 3
   },
   "file_extension": ".py",
   "mimetype": "text/x-python",
   "name": "python",
   "nbconvert_exporter": "python",
   "pygments_lexer": "ipython3",
   "version": "3.10.4"
  }
 },
 "nbformat": 4,
 "nbformat_minor": 5
}
