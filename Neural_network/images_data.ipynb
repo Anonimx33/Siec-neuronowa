{
 "cells": [
  {
   "cell_type": "code",
   "execution_count": 12,
   "id": "71b29e00-1c46-43a6-8761-ff42cbd0ab42",
   "metadata": {},
   "outputs": [],
   "source": [
    "import numpy as np\n",
    "import matplotlib.pyplot as plt\n",
    "from mlxtend.data import loadlocal_mnist\n",
    "PATH_TRAIN_IMAGES = \"data/train-images-idx3-ubyte\"\n",
    "PATH_TRAIN_LABELS = \"data/train-labels-idx1-ubyte\"\n",
    "\n",
    "PATH_TEST_IMAGES = \"data/t10k-images-idx3-ubyte\"\n",
    "PATH_TEST_LABELS = \"data/t10k-labels-idx1-ubyte\"\n",
    "\n",
    "COL_SIZE = 28\n",
    "\n",
    "def load_datasets(set_name=\"train\"):\n",
    "    if set_name == \"train\":\n",
    "        images, labels = loadlocal_mnist(\n",
    "            images_path=PATH_TRAIN_IMAGES,\n",
    "            labels_path=PATH_TRAIN_LABELS)\n",
    "    else:\n",
    "        images, labels = loadlocal_mnist(\n",
    "            images_path=PATH_TEST_IMAGES,\n",
    "            labels_path=PATH_TEST_LABELS)\n",
    "\n",
    "    return images, labels\n",
    "\n",
    "def show_image(array, label=None):\n",
    "    img = np.reshape(array, (COL_SIZE, COL_SIZE))\n",
    "    plt.title(f\"Label: {label}\")\n",
    "    plt.imshow(img, cmap='gray')\n",
    "    plt.show()\n",
    "    \n",
    "def show_image_with_index(index: int, set_name=\"train\"):\n",
    "    images, labels = load_datasets(set_name)\n",
    "    img = images[index]\n",
    "    lbl = labels[index]\n",
    "    print(lbl)\n",
    "    show_image(img, lbl)\n",
    "\n",
    "def normalize_pixel_values(arr: np.ndarray, max_val=255.0):\n",
    "    normalized_arr = arr.astype('float32')\n",
    "    normalized_arr /= max_val\n",
    "    return normalized_arr\n"
   ]
  },
  {
   "cell_type": "code",
   "execution_count": null,
   "id": "0ae583c7-550a-47c6-99a7-f6b64a4fd95e",
   "metadata": {},
   "outputs": [],
   "source": []
  }
 ],
 "metadata": {
  "kernelspec": {
   "display_name": "Neural_Network",
   "language": "python",
   "name": "neural_network"
  },
  "language_info": {
   "codemirror_mode": {
    "name": "ipython",
    "version": 3
   },
   "file_extension": ".py",
   "mimetype": "text/x-python",
   "name": "python",
   "nbconvert_exporter": "python",
   "pygments_lexer": "ipython3",
   "version": "3.10.4"
  }
 },
 "nbformat": 4,
 "nbformat_minor": 5
}
