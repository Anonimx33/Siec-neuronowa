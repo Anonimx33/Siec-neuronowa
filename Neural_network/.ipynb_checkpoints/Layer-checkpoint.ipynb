{
 "cells": [
  {
   "cell_type": "code",
   "execution_count": 1,
   "id": "55248445-1a22-495d-8ab8-302fad1ae5b8",
   "metadata": {},
   "outputs": [],
   "source": [
    "import numpy as np\n",
    "\n",
    "class Layer:\n",
    "    def __init__(self, number_of_neurons, number_of_inputs, activation_function, deriative_function):\n",
    "        self.number_of_neurons = number_of_neurons\n",
    "        self.number_of_inputs = number_of_inputs\n",
    "        self.activation_function = activation_function\n",
    "        self.deriative_function = deriative_function\n",
    "        self.weights = np.random.uniform(-1,1,(number_of_neurons, number_of_inputs))\n",
    "        self.bias = np.random.uniform(-0.2,0.2,size = (number_of_neurons))\n",
    "        self.z = np.zeros(number_of_neurons)\n",
    "        self.y = np.zeros(number_of_neurons)\n",
    "\n",
    "    def activation(self, inputs):\n",
    "        self.z = np.dot(self.weights, inputs) + self.bias\n",
    "        self.y = self.activation_function(self.z)\n",
    "        return self.y\n",
    "    \n",
    "    def deriative(self, inputs):\n",
    "        self.z = np.dot(self.weights, inputs) + self.bias\n",
    "        self.y = self.deriative_function(self.z)\n",
    "        return self.y\n"
   ]
  }
 ],
 "metadata": {
  "kernelspec": {
   "display_name": "Neural_Network",
   "language": "python",
   "name": "neural_network"
  },
  "language_info": {
   "codemirror_mode": {
    "name": "ipython",
    "version": 3
   },
   "file_extension": ".py",
   "mimetype": "text/x-python",
   "name": "python",
   "nbconvert_exporter": "python",
   "pygments_lexer": "ipython3",
   "version": "3.10.4"
  }
 },
 "nbformat": 4,
 "nbformat_minor": 5
}
