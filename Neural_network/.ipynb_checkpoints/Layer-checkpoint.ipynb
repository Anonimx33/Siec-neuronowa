{
 "cells": [
  {
   "cell_type": "code",
   "execution_count": 2,
   "id": "55248445-1a22-495d-8ab8-302fad1ae5b8",
   "metadata": {},
   "outputs": [],
   "source": [
    "import numpy as np\n",
    "\n",
    "class Layer:\n",
    "    def __init__(self, number_of_neurons, number_of_inputs, activation_function, deriative_function):\n",
    "        self.number_of_neurons = number_of_neurons\n",
    "        self.number_of_inputs = number_of_inputs\n",
    "        self.activation_function = activation_function\n",
    "        self.deriative_function = deriative_function\n",
    "        self.weights = np.random.uniform(-1,1,(number_of_neurons, number_of_inputs))\n",
    "        self.biases = np.random.uniform(-0.2,0.2,size = (number_of_neurons, 1))\n",
    "        self.z = np.zeros(number_of_neurons, 1)\n",
    "        self.y = np.zeros(number_of_neurons, 1)\n",
    "\n",
    "    def activation(self, inputs):\n",
    "        print(inputs.shape, self.biases.shape, \"shape\")\n",
    "        self.z = np.dot(self.weights, inputs) + self.biases\n",
    "        self.y = self.activation_function(self.z)\n",
    "        return self.y\n",
    "    \n",
    "    def deriative(self, inputs):\n",
    "        self.z = np.dot(self.weights, inputs) + self.biases\n",
    "        self.y = self.deriative_function(self.z)\n",
    "        return self.y\n",
    "    \n",
    "    def set_biases(self, new_biases: np.array):\n",
    "        self.biases = new_biases\n",
    "\n",
    "    def set_weights(self, new_weights: np.array):\n",
    "        self.weights = new_weights"
   ]
  }
 ],
 "metadata": {
  "kernelspec": {
   "display_name": "Neural_Network",
   "language": "python",
   "name": "neural_network"
  },
  "language_info": {
   "codemirror_mode": {
    "name": "ipython",
    "version": 3
   },
   "file_extension": ".py",
   "mimetype": "text/x-python",
   "name": "python",
   "nbconvert_exporter": "python",
   "pygments_lexer": "ipython3",
   "version": "3.10.4"
  }
 },
 "nbformat": 4,
 "nbformat_minor": 5
}
